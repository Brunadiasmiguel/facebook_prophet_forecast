{
 "cells": [
  {
   "cell_type": "markdown",
   "id": "bcf807ad-8ecd-4d11-b4d8-8e4340299940",
   "metadata": {},
   "source": [
    "# Forecasting with Prophet in Python on BQ Data"
   ]
  },
  {
   "cell_type": "code",
   "execution_count": null,
   "id": "bea4d563-c857-4381-bb09-291ab0465823",
   "metadata": {},
   "outputs": [],
   "source": [
    "# pip install prophet"
   ]
  },
  {
   "cell_type": "markdown",
   "id": "84c25f2c-c6a5-44f8-9e7d-6ce9ab844221",
   "metadata": {},
   "source": [
    "## 1. Import Libraries"
   ]
  },
  {
   "cell_type": "code",
   "execution_count": 7,
   "id": "cd405f56-73ad-4dc6-bf97-a76ae395d336",
   "metadata": {
    "tags": []
   },
   "outputs": [],
   "source": [
    "from prophet import Prophet\n",
    "from prophet.diagnostics import performance_metrics\n",
    "from prophet.diagnostics import cross_validation\n",
    "\n",
    "import os\n",
    "import datetime\n",
    "import pandas as pd\n",
    "import numpy as np\n",
    "import datetime as dt\n",
    "\n",
    "from scipy import stats as st\n",
    "\n",
    "import matplotlib.pyplot as plt"
   ]
  },
  {
   "cell_type": "markdown",
   "id": "7ec97a3b-c39d-49a0-901e-0bc9557c9064",
   "metadata": {},
   "source": [
    "## 2. Access dataset"
   ]
  },
  {
   "cell_type": "markdown",
   "id": "4498acd3-0632-47cf-9ff0-9f98ee779d37",
   "metadata": {},
   "source": [
    "### 2.1 Example how to access BQ data from a Jupyter Notebook"
   ]
  },
  {
   "cell_type": "code",
   "execution_count": null,
   "id": "ee289064-ed90-40ca-a4d9-bc745e283d2f",
   "metadata": {},
   "outputs": [],
   "source": [
    "# load the BQ credentials to google cloud\n",
    "\n",
    "os.environ[\"GOOGLE_APPLICATION_CREDENTIALS\"] = \"YOUR JSON CREDENTIALS\"\n",
    "\n",
    "# BQ \n",
    "\n",
    "credentials, your_project_id = google.auth.default(\n",
    "scopes=[\"https://www.googleapis.com/auth/cloud-platform\"])\n",
    "\n",
    "# make clients\n",
    "\n",
    "bqclient = bigquery.Client(credentials=credentials, project=your_project_id,)\n",
    "bqstorageclient = bigquery_storage.BigQueryReadClient(credentials=credentials)"
   ]
  },
  {
   "cell_type": "code",
   "execution_count": null,
   "id": "7d1df010-3433-419b-b901-d93fb5dae431",
   "metadata": {},
   "outputs": [],
   "source": [
    "# connect to the BQ table and create dataframe\n",
    "\n",
    "string = \"\"\"\n",
    "select *\n",
    "FROM dummy_table\n",
    "\"\"\"\n",
    "\n",
    "df = (\n",
    "    bqclient.query(string)\n",
    "    .result()\n",
    "    .to_dataframe(bqstorage_client=bqstorageclient)\n",
    ")\n",
    "df.head()"
   ]
  },
  {
   "cell_type": "code",
   "execution_count": null,
   "id": "a205eca4-e400-4d94-987e-90a6062cddff",
   "metadata": {},
   "outputs": [],
   "source": [
    "### 2.2 Example how to access BQ data from a Jupyter Notebook"
   ]
  },
  {
   "cell_type": "code",
   "execution_count": null,
   "id": "52c9fcf7-7c11-4206-a729-6a33f885939e",
   "metadata": {},
   "outputs": [],
   "source": []
  }
 ],
 "metadata": {
  "kernelspec": {
   "display_name": "Python 3 (ipykernel)",
   "language": "python",
   "name": "python3"
  },
  "language_info": {
   "codemirror_mode": {
    "name": "ipython",
    "version": 3
   },
   "file_extension": ".py",
   "mimetype": "text/x-python",
   "name": "python",
   "nbconvert_exporter": "python",
   "pygments_lexer": "ipython3",
   "version": "3.11.5"
  }
 },
 "nbformat": 4,
 "nbformat_minor": 5
}
